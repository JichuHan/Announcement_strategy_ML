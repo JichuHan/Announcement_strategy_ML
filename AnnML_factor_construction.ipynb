{
 "cells": [
  {
   "cell_type": "code",
   "execution_count": 15,
   "id": "8d71a2a7",
   "metadata": {
    "ExecuteTime": {
     "end_time": "2022-09-25T16:58:16.837855Z",
     "start_time": "2022-09-25T16:58:16.830255Z"
    }
   },
   "outputs": [],
   "source": [
    "import seaborn as sns\n",
    "import multiprocessing as mp\n",
    "import pandas as pd\n",
    "import tqdm\n",
    "import time\n",
    "import copy\n",
    "import numpy as np\n",
    "#import MySQLdb\n",
    "import os\n",
    "import pickle\n",
    "import warnings\n",
    "import matplotlib.pyplot as plt\n",
    "\n",
    "import pickle\n",
    "def save_variable(v,filename):\n",
    "    f=open(filename,'wb')          #打开或创建名叫filename的文档。\n",
    "    pickle.dump(v,f)               #在文件filename中写入v\n",
    "    f.close()                      #关闭文件，释放内存。\n",
    "    return filename\n",
    "\n",
    "def load_variable(filename):\n",
    "    try:\n",
    "        f=open(filename,'rb')\n",
    "        r=pickle.load(f)\n",
    "        f.close()\n",
    "        return r\n",
    "    except EOFError:\n",
    "        return \"\"\n",
    "\n",
    "pickle_path='/Users/jason/JC/公告数据/'\n"
   ]
  },
  {
   "cell_type": "code",
   "execution_count": 9,
   "id": "addf166a",
   "metadata": {
    "ExecuteTime": {
     "end_time": "2022-09-25T16:53:05.317127Z",
     "start_time": "2022-09-25T16:53:05.249013Z"
    }
   },
   "outputs": [],
   "source": [
    "path = '/Users/jason/Desktop/公告类数据/'\n",
    "signal_df = load_variable(path+'signal_df')"
   ]
  },
  {
   "cell_type": "code",
   "execution_count": 11,
   "id": "afb2130f",
   "metadata": {
    "ExecuteTime": {
     "end_time": "2022-09-25T16:56:50.528276Z",
     "start_time": "2022-09-25T16:56:49.885459Z"
    }
   },
   "outputs": [],
   "source": [
    "twap_ret = load_variable(path+'theoretical_rtn_metric')\n",
    "twap_open = load_variable(path+'TwapBegin60')\n",
    "twap_close = load_variable(path+'TwapClose60')\n",
    "trade_vol_b120 = load_variable(path+'TradeVolumeBegin120')\n",
    "trade_vol_c60 = load_variable(path+'TradeVolumeClose60')\n",
    "vwap_b60 = load_variable(path+'VwapBegin120')\n",
    "vwap_c60 = load_variable(path+'VwapClose60')"
   ]
  },
  {
   "cell_type": "code",
   "execution_count": 17,
   "id": "f30fd743",
   "metadata": {
    "ExecuteTime": {
     "end_time": "2022-09-25T16:58:41.494892Z",
     "start_time": "2022-09-25T16:58:41.489580Z"
    }
   },
   "outputs": [
    {
     "data": {
      "text/plain": [
       "1"
      ]
     },
     "execution_count": 17,
     "metadata": {},
     "output_type": "execute_result"
    }
   ],
   "source": [
    "'''twap_open = pd.read_excel(path+'TW开盘价.xlsx')\n",
    "open_price = pd.read_excel(path+'开盘价.xlsx')\n",
    "close_price = pd.read_excel(path+'收盘价.xlsx')\n",
    "market_value = pd.read_excel(path+'市值.xlsx')\n",
    "vwap = pd.read_excel(path+'VWAP.xlsx')'''\n",
    "1"
   ]
  },
  {
   "cell_type": "code",
   "execution_count": 21,
   "id": "51efe028",
   "metadata": {
    "ExecuteTime": {
     "end_time": "2022-09-25T17:01:06.423312Z",
     "start_time": "2022-09-25T17:01:06.384061Z"
    }
   },
   "outputs": [],
   "source": [
    "def treat_downloads(df):\n",
    "    df.index = [int(i) for i in df.index]\n",
    "    df.columns = [int(i) for i in df.columns]\n",
    "    return df\n",
    "\n",
    "twap_ret = treat_downloads(twap_ret)\n",
    "twap_open = treat_downloads(twap_open)\n",
    "twap_close = treat_downloads(twap_close)\n",
    "trade_vol_b120 = treat_downloads(trade_vol_b120)\n",
    "trade_vol_c60 = treat_downloads(trade_vol_c60)\n",
    "vwap_b60 = treat_downloads(vwap_b60)\n",
    "vwap_c60 = treat_downloads(vwap_c60)"
   ]
  },
  {
   "cell_type": "code",
   "execution_count": 22,
   "id": "fcaddb12",
   "metadata": {
    "ExecuteTime": {
     "end_time": "2022-09-25T17:01:27.009017Z",
     "start_time": "2022-09-25T17:01:26.685625Z"
    }
   },
   "outputs": [],
   "source": [
    "index_need = signal_df.replace(np.nan,0).cumsum(axis=1).replace(0,np.nan).iloc[:,-1].dropna().index\n",
    "dates_need = signal_df.columns"
   ]
  },
  {
   "cell_type": "markdown",
   "id": "5ad995f5",
   "metadata": {},
   "source": [
    "# MACD"
   ]
  },
  {
   "cell_type": "code",
   "execution_count": 25,
   "id": "4696d3ac",
   "metadata": {
    "ExecuteTime": {
     "end_time": "2022-09-25T17:01:59.196197Z",
     "start_time": "2022-09-25T17:01:59.187695Z"
    }
   },
   "outputs": [],
   "source": [
    "def EMA(array,t):\n",
    "    EMA=[]\n",
    "    for i in range(0,len(array)):\n",
    "        if i+1>=t:\n",
    "            ema=(2*array.iloc[i,0]+(t-1)*EMA[i-1])/(t+1)\n",
    "        elif i<=t:\n",
    "            ema=float(array.iloc[:i+1].mean())\n",
    "        EMA.append(ema)\n",
    "    return pd.Series(EMA)\n",
    "\n",
    "def MACD(df,t1,t2,t3):\n",
    "    Df=df.copy()\n",
    "    P=EMA(Df,2)\n",
    "    EMA1=EMA(Df,t1)\n",
    "    EMA2=EMA(Df,t2)\n",
    "    EMA3=EMA(Df,t3)\n",
    "    #print(Df)\n",
    "    \n",
    "    Df['P_EMA1']=list(P/EMA1)\n",
    "    #Df['P_EMA2']=list(P/EMA2)\n",
    "    Df['P_EMA3']=list(P/EMA3)\n",
    "    #Df['EMA1_EMA2']=list(EMA1/EMA2)\n",
    "    Df['EMA2_EMA3']=list(EMA2/EMA3)\n",
    "    #print((EMA1-EMA2)/DEA)\n",
    "    DIFF1=pd.DataFrame(EMA1-EMA3)\n",
    "    DEA1=EMA(DIFF1,10)\n",
    "    Df['DIFF_DEA_S']=list((EMA1-EMA3)/DEA1)\n",
    "    \n",
    "    DIFF2=pd.DataFrame(EMA1-EMA2)\n",
    "    DEA2=EMA(DIFF2,10)\n",
    "    Df['DIFF_DEA_M']=list((EMA1-EMA2)/DEA2)\n",
    "    \n",
    "    DIFF3=pd.DataFrame(EMA2-EMA3)\n",
    "    DEA3=EMA(DIFF3,10)\n",
    "    Df['DIFF_DEA_L']=list((EMA2-EMA3)/DEA3)\n",
    "    return Df\n"
   ]
  },
  {
   "cell_type": "code",
   "execution_count": 26,
   "id": "5d0ecc5c",
   "metadata": {
    "ExecuteTime": {
     "end_time": "2022-09-25T17:02:28.892800Z",
     "start_time": "2022-09-25T17:02:28.889903Z"
    }
   },
   "outputs": [],
   "source": [
    "close_price = twap_close"
   ]
  },
  {
   "cell_type": "code",
   "execution_count": 27,
   "id": "2731563d",
   "metadata": {
    "ExecuteTime": {
     "end_time": "2022-09-25T17:02:30.107499Z",
     "start_time": "2022-09-25T17:02:29.747604Z"
    }
   },
   "outputs": [
    {
     "data": {
      "text/html": [
       "<div>\n",
       "<style scoped>\n",
       "    .dataframe tbody tr th:only-of-type {\n",
       "        vertical-align: middle;\n",
       "    }\n",
       "\n",
       "    .dataframe tbody tr th {\n",
       "        vertical-align: top;\n",
       "    }\n",
       "\n",
       "    .dataframe thead th {\n",
       "        text-align: right;\n",
       "    }\n",
       "</style>\n",
       "<table border=\"1\" class=\"dataframe\">\n",
       "  <thead>\n",
       "    <tr style=\"text-align: right;\">\n",
       "      <th></th>\n",
       "      <th>4</th>\n",
       "      <th>P_EMA1</th>\n",
       "      <th>P_EMA3</th>\n",
       "      <th>EMA2_EMA3</th>\n",
       "      <th>DIFF_DEA_S</th>\n",
       "      <th>DIFF_DEA_M</th>\n",
       "      <th>DIFF_DEA_L</th>\n",
       "    </tr>\n",
       "  </thead>\n",
       "  <tbody>\n",
       "    <tr>\n",
       "      <th>4</th>\n",
       "      <td>1.000000</td>\n",
       "      <td>0.123821</td>\n",
       "      <td>0.295855</td>\n",
       "      <td>0.316452</td>\n",
       "      <td>-0.028312</td>\n",
       "      <td>-0.013611</td>\n",
       "      <td>-0.000225</td>\n",
       "    </tr>\n",
       "    <tr>\n",
       "      <th>P_EMA1</th>\n",
       "      <td>0.123821</td>\n",
       "      <td>1.000000</td>\n",
       "      <td>0.677700</td>\n",
       "      <td>0.321568</td>\n",
       "      <td>0.090645</td>\n",
       "      <td>0.033844</td>\n",
       "      <td>0.102465</td>\n",
       "    </tr>\n",
       "    <tr>\n",
       "      <th>P_EMA3</th>\n",
       "      <td>0.295855</td>\n",
       "      <td>0.677700</td>\n",
       "      <td>1.000000</td>\n",
       "      <td>0.892077</td>\n",
       "      <td>0.064093</td>\n",
       "      <td>0.008004</td>\n",
       "      <td>0.052850</td>\n",
       "    </tr>\n",
       "    <tr>\n",
       "      <th>EMA2_EMA3</th>\n",
       "      <td>0.316452</td>\n",
       "      <td>0.321568</td>\n",
       "      <td>0.892077</td>\n",
       "      <td>1.000000</td>\n",
       "      <td>0.016138</td>\n",
       "      <td>-0.021014</td>\n",
       "      <td>0.031442</td>\n",
       "    </tr>\n",
       "    <tr>\n",
       "      <th>DIFF_DEA_S</th>\n",
       "      <td>-0.028312</td>\n",
       "      <td>0.090645</td>\n",
       "      <td>0.064093</td>\n",
       "      <td>0.016138</td>\n",
       "      <td>1.000000</td>\n",
       "      <td>0.000511</td>\n",
       "      <td>-0.005915</td>\n",
       "    </tr>\n",
       "    <tr>\n",
       "      <th>DIFF_DEA_M</th>\n",
       "      <td>-0.013611</td>\n",
       "      <td>0.033844</td>\n",
       "      <td>0.008004</td>\n",
       "      <td>-0.021014</td>\n",
       "      <td>0.000511</td>\n",
       "      <td>1.000000</td>\n",
       "      <td>0.001007</td>\n",
       "    </tr>\n",
       "    <tr>\n",
       "      <th>DIFF_DEA_L</th>\n",
       "      <td>-0.000225</td>\n",
       "      <td>0.102465</td>\n",
       "      <td>0.052850</td>\n",
       "      <td>0.031442</td>\n",
       "      <td>-0.005915</td>\n",
       "      <td>0.001007</td>\n",
       "      <td>1.000000</td>\n",
       "    </tr>\n",
       "  </tbody>\n",
       "</table>\n",
       "</div>"
      ],
      "text/plain": [
       "                   4    P_EMA1    P_EMA3  EMA2_EMA3  DIFF_DEA_S  DIFF_DEA_M  \\\n",
       "4           1.000000  0.123821  0.295855   0.316452   -0.028312   -0.013611   \n",
       "P_EMA1      0.123821  1.000000  0.677700   0.321568    0.090645    0.033844   \n",
       "P_EMA3      0.295855  0.677700  1.000000   0.892077    0.064093    0.008004   \n",
       "EMA2_EMA3   0.316452  0.321568  0.892077   1.000000    0.016138   -0.021014   \n",
       "DIFF_DEA_S -0.028312  0.090645  0.064093   0.016138    1.000000    0.000511   \n",
       "DIFF_DEA_M -0.013611  0.033844  0.008004  -0.021014    0.000511    1.000000   \n",
       "DIFF_DEA_L -0.000225  0.102465  0.052850   0.031442   -0.005915    0.001007   \n",
       "\n",
       "            DIFF_DEA_L  \n",
       "4            -0.000225  \n",
       "P_EMA1        0.102465  \n",
       "P_EMA3        0.052850  \n",
       "EMA2_EMA3     0.031442  \n",
       "DIFF_DEA_S   -0.005915  \n",
       "DIFF_DEA_M    0.001007  \n",
       "DIFF_DEA_L    1.000000  "
      ]
     },
     "execution_count": 27,
     "metadata": {},
     "output_type": "execute_result"
    }
   ],
   "source": [
    "t = MACD(pd.DataFrame(close_price.iloc[3,:]),3,10,20)\n",
    "t.corr()"
   ]
  },
  {
   "cell_type": "code",
   "execution_count": 28,
   "id": "5872437c",
   "metadata": {
    "ExecuteTime": {
     "end_time": "2022-09-25T17:10:04.361866Z",
     "start_time": "2022-09-25T17:02:39.257144Z"
    }
   },
   "outputs": [
    {
     "name": "stderr",
     "output_type": "stream",
     "text": [
      "100%|██████████| 2169/2169 [07:24<00:00,  4.88it/s]\n"
     ]
    }
   ],
   "source": [
    "#先将close_price backfill，之后再做这个操作，最后再用原来的mask罩上去即可\n",
    "close_price_part = (close_price[dates_need].loc[index_need]).fillna(method='ffill',axis=1)\n",
    "df_mask = close_price_part.isna().replace([True,False],[np.nan,1])\n",
    "close_price_part = close_price_part.fillna(method='bfill',axis=1)\n",
    "MACD_dict={}\n",
    "import tqdm\n",
    "for i in tqdm.tqdm(range(0,len(index_need))):\n",
    "    MACD_df = MACD(pd.DataFrame(close_price_part.iloc[i,:]),3,10,20)\n",
    "    MACD_dict[index_need[i]] = MACD_df  \n"
   ]
  },
  {
   "cell_type": "code",
   "execution_count": 29,
   "id": "7aa9c456",
   "metadata": {
    "ExecuteTime": {
     "end_time": "2022-09-25T17:10:22.171339Z",
     "start_time": "2022-09-25T17:10:20.259527Z"
    }
   },
   "outputs": [],
   "source": [
    "name_list = ['P_EMA1','P_EMA3','EMA2_EMA3','DIFF_DEA_S','DIFF_DEA_M','DIFF_DEA_L']\n",
    "\n",
    "def to_factor_df(name_list,RSI_dict):\n",
    "    RSI_res_dict = {}\n",
    "    for i in name_list :\n",
    "        RSI_res_dict[i] = close_price_part.copy()\n",
    "\n",
    "    for j in name_list :\n",
    "        fac_df = RSI_res_dict[j]\n",
    "        for i in RSI_dict :\n",
    "            fac_df.loc[i] = RSI_dict[i][j]\n",
    "        fac_df = fac_df * df_mask\n",
    "        RSI_res_dict[j] = fac_df\n",
    "    \n",
    "    return RSI_res_dict\n",
    "\n",
    "MACD_res_dict = to_factor_df(name_list,MACD_dict)\n"
   ]
  },
  {
   "cell_type": "code",
   "execution_count": 30,
   "id": "18a75be3",
   "metadata": {
    "ExecuteTime": {
     "end_time": "2022-09-25T17:10:38.123569Z",
     "start_time": "2022-09-25T17:10:37.913409Z"
    }
   },
   "outputs": [
    {
     "data": {
      "image/png": "[encoded data removed]",
      "text/plain": [
       "<Figure size 432x288 with 1 Axes>"
      ]
     },
     "metadata": {
      "needs_background": "light"
     },
     "output_type": "display_data"
    }
   ],
   "source": [
    "for i in name_list:\n",
    "    plt.plot(list(MACD_res_dict[i].count()))"
   ]
  },
  {
   "cell_type": "code",
   "execution_count": 331,
   "id": "631b339c",
   "metadata": {
    "ExecuteTime": {
     "end_time": "2022-09-23T17:23:39.436138Z",
     "start_time": "2022-09-23T17:23:39.351627Z"
    }
   },
   "outputs": [
    {
     "data": {
      "text/plain": [
       "0.004151000751596659"
      ]
     },
     "execution_count": 331,
     "metadata": {},
     "output_type": "execute_result"
    }
   ],
   "source": [
    "MACD_res_dict['DIFF_DEA_S'].corrwith(MACD_res_dict['DIFF_DEA_L']).mean()"
   ]
  },
  {
   "cell_type": "markdown",
   "id": "e115478f",
   "metadata": {},
   "source": [
    "# RSI"
   ]
  },
  {
   "cell_type": "code",
   "execution_count": 31,
   "id": "9e523753",
   "metadata": {
    "ExecuteTime": {
     "end_time": "2022-09-25T17:10:53.949410Z",
     "start_time": "2022-09-25T17:10:53.942468Z"
    }
   },
   "outputs": [],
   "source": [
    "def RSI(df):\n",
    "    Df=df.copy()\n",
    "    Period=[2,10,20]\n",
    "    RSI3 = []\n",
    "    for i in range(0,len(Period)):\n",
    "        t=Period[i]\n",
    "        array=Df\n",
    "        U=[0]\n",
    "        D=[0.1]\n",
    "        for j in range(1,len(array)):\n",
    "            if array.iloc[j,0]>array.iloc[j-1,0]:\n",
    "                U.append(array.iloc[j,0]-array.iloc[j-1,0])\n",
    "                D.append(0)\n",
    "            else:\n",
    "                D.append(array.iloc[j-1,0]-array.iloc[j,0])\n",
    "                U.append(0)\n",
    "        US=EMA(pd.DataFrame(U),t)\n",
    "        DS=EMA(pd.DataFrame(D),t)\n",
    "        #print(US)\n",
    "        RS=US/DS\n",
    "        RSI=(1-1/(1+RS))\n",
    "        RSI3.append(RSI)\n",
    "    #print(RSI3[0])\n",
    "    Df['RSI6']=np.array(RSI3[0])\n",
    "    #Df['RSI12']=np.array(RSI3[1])\n",
    "    Df['RSI24']=np.array(RSI3[1])\n",
    "    #Df['RSI6-12']=np.array(RSI3[0]/RSI3[1])\n",
    "    Df['RSI6-24']=np.array(RSI3[0]/RSI3[1])\n",
    "    #Df['RSI12-24']=np.array(RSI3[1]/RSI3[2])\n",
    "    \n",
    "    DIFF = RSI3[0] - RSI3[2]\n",
    "    DEA=EMA(pd.DataFrame(DIFF),10)\n",
    "    Df['RSI_BAR']=np.array(DIFF/DEA)\n",
    "    \n",
    "    DIFF = RSI3[1] - RSI3[2]\n",
    "    DEA=EMA(pd.DataFrame(DIFF),10)\n",
    "    Df['RSI_BAR1']=np.array(DIFF/DEA)\n",
    "    \n",
    "    DIFF = RSI3[0] - RSI3[1]\n",
    "    DEA=EMA(pd.DataFrame(DIFF),10)\n",
    "    Df['RSI_BAR2']=np.array(DIFF/DEA)\n",
    "    \n",
    "    return Df"
   ]
  },
  {
   "cell_type": "code",
   "execution_count": 32,
   "id": "e324d16b",
   "metadata": {
    "ExecuteTime": {
     "end_time": "2022-09-25T17:11:09.826560Z",
     "start_time": "2022-09-25T17:11:08.949982Z"
    },
    "scrolled": false
   },
   "outputs": [
    {
     "data": {
      "text/html": [
       "<div>\n",
       "<style scoped>\n",
       "    .dataframe tbody tr th:only-of-type {\n",
       "        vertical-align: middle;\n",
       "    }\n",
       "\n",
       "    .dataframe tbody tr th {\n",
       "        vertical-align: top;\n",
       "    }\n",
       "\n",
       "    .dataframe thead th {\n",
       "        text-align: right;\n",
       "    }\n",
       "</style>\n",
       "<table border=\"1\" class=\"dataframe\">\n",
       "  <thead>\n",
       "    <tr style=\"text-align: right;\">\n",
       "      <th></th>\n",
       "      <th>4</th>\n",
       "      <th>RSI6</th>\n",
       "      <th>RSI24</th>\n",
       "      <th>RSI6-24</th>\n",
       "      <th>RSI_BAR</th>\n",
       "      <th>RSI_BAR1</th>\n",
       "      <th>RSI_BAR2</th>\n",
       "    </tr>\n",
       "  </thead>\n",
       "  <tbody>\n",
       "    <tr>\n",
       "      <th>4</th>\n",
       "      <td>1.000000</td>\n",
       "      <td>-0.003895</td>\n",
       "      <td>0.053297</td>\n",
       "      <td>-0.039097</td>\n",
       "      <td>0.014184</td>\n",
       "      <td>-0.031324</td>\n",
       "      <td>0.100624</td>\n",
       "    </tr>\n",
       "    <tr>\n",
       "      <th>RSI6</th>\n",
       "      <td>-0.003895</td>\n",
       "      <td>1.000000</td>\n",
       "      <td>0.720395</td>\n",
       "      <td>0.832920</td>\n",
       "      <td>-0.042031</td>\n",
       "      <td>-0.018699</td>\n",
       "      <td>-0.065578</td>\n",
       "    </tr>\n",
       "    <tr>\n",
       "      <th>RSI24</th>\n",
       "      <td>0.053297</td>\n",
       "      <td>0.720395</td>\n",
       "      <td>1.000000</td>\n",
       "      <td>0.301488</td>\n",
       "      <td>-0.073368</td>\n",
       "      <td>0.002776</td>\n",
       "      <td>-0.036926</td>\n",
       "    </tr>\n",
       "    <tr>\n",
       "      <th>RSI6-24</th>\n",
       "      <td>-0.039097</td>\n",
       "      <td>0.832920</td>\n",
       "      <td>0.301488</td>\n",
       "      <td>1.000000</td>\n",
       "      <td>-0.032090</td>\n",
       "      <td>-0.036442</td>\n",
       "      <td>-0.069994</td>\n",
       "    </tr>\n",
       "    <tr>\n",
       "      <th>RSI_BAR</th>\n",
       "      <td>0.014184</td>\n",
       "      <td>-0.042031</td>\n",
       "      <td>-0.073368</td>\n",
       "      <td>-0.032090</td>\n",
       "      <td>1.000000</td>\n",
       "      <td>0.001293</td>\n",
       "      <td>-0.001906</td>\n",
       "    </tr>\n",
       "    <tr>\n",
       "      <th>RSI_BAR1</th>\n",
       "      <td>-0.031324</td>\n",
       "      <td>-0.018699</td>\n",
       "      <td>0.002776</td>\n",
       "      <td>-0.036442</td>\n",
       "      <td>0.001293</td>\n",
       "      <td>1.000000</td>\n",
       "      <td>-0.009227</td>\n",
       "    </tr>\n",
       "    <tr>\n",
       "      <th>RSI_BAR2</th>\n",
       "      <td>0.100624</td>\n",
       "      <td>-0.065578</td>\n",
       "      <td>-0.036926</td>\n",
       "      <td>-0.069994</td>\n",
       "      <td>-0.001906</td>\n",
       "      <td>-0.009227</td>\n",
       "      <td>1.000000</td>\n",
       "    </tr>\n",
       "  </tbody>\n",
       "</table>\n",
       "</div>"
      ],
      "text/plain": [
       "                 4      RSI6     RSI24   RSI6-24   RSI_BAR  RSI_BAR1  RSI_BAR2\n",
       "4         1.000000 -0.003895  0.053297 -0.039097  0.014184 -0.031324  0.100624\n",
       "RSI6     -0.003895  1.000000  0.720395  0.832920 -0.042031 -0.018699 -0.065578\n",
       "RSI24     0.053297  0.720395  1.000000  0.301488 -0.073368  0.002776 -0.036926\n",
       "RSI6-24  -0.039097  0.832920  0.301488  1.000000 -0.032090 -0.036442 -0.069994\n",
       "RSI_BAR   0.014184 -0.042031 -0.073368 -0.032090  1.000000  0.001293 -0.001906\n",
       "RSI_BAR1 -0.031324 -0.018699  0.002776 -0.036442  0.001293  1.000000 -0.009227\n",
       "RSI_BAR2  0.100624 -0.065578 -0.036926 -0.069994 -0.001906 -0.009227  1.000000"
      ]
     },
     "execution_count": 32,
     "metadata": {},
     "output_type": "execute_result"
    }
   ],
   "source": [
    "t = RSI(pd.DataFrame(close_price.iloc[3,:]))\n",
    "t.corr()"
   ]
  },
  {
   "cell_type": "code",
   "execution_count": 33,
   "id": "fbfb3f89",
   "metadata": {
    "ExecuteTime": {
     "end_time": "2022-09-25T17:30:36.073385Z",
     "start_time": "2022-09-25T17:11:24.814224Z"
    }
   },
   "outputs": [
    {
     "name": "stderr",
     "output_type": "stream",
     "text": [
      "100%|██████████| 2169/2169 [19:10<00:00,  1.89it/s]\n"
     ]
    }
   ],
   "source": [
    "\n",
    "close_price_part = (close_price[dates_need].loc[index_need]).fillna(method='ffill',axis=1)\n",
    "df_mask = close_price_part.isna().replace([True,False],[np.nan,1])\n",
    "close_price_part = close_price_part.fillna(method='bfill',axis=1)\n",
    "RSI_dict={}\n",
    "import tqdm\n",
    "for i in tqdm.tqdm(range(0,len(index_need))):\n",
    "    RSI_df = RSI(pd.DataFrame(close_price_part.iloc[i,:]))\n",
    "    RSI_dict[index_need[i]] = RSI_df    \n"
   ]
  },
  {
   "cell_type": "code",
   "execution_count": null,
   "id": "944eeab2",
   "metadata": {
    "ExecuteTime": {
     "end_time": "2022-09-23T14:25:11.088979Z",
     "start_time": "2022-09-23T14:25:07.720260Z"
    }
   },
   "outputs": [],
   "source": []
  },
  {
   "cell_type": "code",
   "execution_count": 34,
   "id": "531a2926",
   "metadata": {
    "ExecuteTime": {
     "end_time": "2022-09-25T17:31:07.837352Z",
     "start_time": "2022-09-25T17:31:05.807322Z"
    }
   },
   "outputs": [],
   "source": [
    "def to_factor_df(name_list,RSI_dict):\n",
    "    RSI_res_dict = {}\n",
    "    for i in name_list :\n",
    "        RSI_res_dict[i] = close_price_part.copy()\n",
    "\n",
    "    for j in name_list :\n",
    "        fac_df = RSI_res_dict[j]\n",
    "        for i in RSI_dict :\n",
    "            fac_df.loc[i] = RSI_dict[i][j]\n",
    "        fac_df = fac_df * df_mask\n",
    "        RSI_res_dict[j] = fac_df\n",
    "    \n",
    "    return RSI_res_dict\n",
    "\n",
    "name_list = ['RSI6','RSI24', 'RSI6-24', 'RSI_BAR','RSI_BAR1','RSI_BAR2']\n",
    "RSI_res_dict = to_factor_df(name_list,RSI_dict)\n"
   ]
  },
  {
   "cell_type": "code",
   "execution_count": 35,
   "id": "5cb213c2",
   "metadata": {
    "ExecuteTime": {
     "end_time": "2022-09-25T17:31:37.462067Z",
     "start_time": "2022-09-25T17:31:37.303644Z"
    }
   },
   "outputs": [
    {
     "data": {
      "image/png": "[encoded data removed]",
      "text/plain": [
       "<Figure size 432x288 with 1 Axes>"
      ]
     },
     "metadata": {
      "needs_background": "light"
     },
     "output_type": "display_data"
    }
   ],
   "source": [
    "for i in name_list:\n",
    "    plt.plot(list(RSI_res_dict[i].count()))"
   ]
  },
  {
   "cell_type": "markdown",
   "id": "b4c97d5f",
   "metadata": {
    "ExecuteTime": {
     "end_time": "2022-09-15T00:12:29.251967Z",
     "start_time": "2022-09-15T00:12:29.239818Z"
    }
   },
   "source": [
    "# KDJ"
   ]
  },
  {
   "cell_type": "code",
   "execution_count": 36,
   "id": "8182214e",
   "metadata": {
    "ExecuteTime": {
     "end_time": "2022-09-25T17:32:07.264156Z",
     "start_time": "2022-09-25T17:32:07.252153Z"
    }
   },
   "outputs": [],
   "source": [
    "def KDJ(Df,t,a):\n",
    "    array=Df.copy()\n",
    "    RSV=[]\n",
    "    for i in range(0,len(array)):\n",
    "        if i==0:\n",
    "            rsv=0\n",
    "        elif i+1>=t:\n",
    "            Slice=np.array(array.iloc[i+1-t:i+1,0])\n",
    "            #print(Slice)\n",
    "            C=Slice[-1]\n",
    "            L=np.min(Slice)\n",
    "            H=np.max(Slice)\n",
    "            rsv=(C-L)/(H-L)\n",
    "        elif i<=t:\n",
    "            Slice=np.array(array.iloc[:i+1,0])\n",
    "            C=Slice[-1]\n",
    "            L=np.min(Slice)\n",
    "            H=np.max(Slice)\n",
    "            rsv=(C-L)/(H-L)\n",
    "        if np.isnan(rsv):\n",
    "            rsv = 0\n",
    "        RSV.append(rsv)\n",
    "    K=[]\n",
    "    D=[]\n",
    "    for i in range(0,len(array)):\n",
    "        if i==0:\n",
    "            K.append(RSV[i])\n",
    "            D.append(RSV[i])\n",
    "        else:\n",
    "            k=a*RSV[i]+(1-a)*K[i-1]\n",
    "            d=a*k+(1-a)*D[i-1]\n",
    "            K.append(k)\n",
    "            D.append(d)\n",
    "    J=np.array(K)-np.array(D)\n",
    "    K = np.array(K)\n",
    "    D = np.array(D)\n",
    "    #array['RSV'] = RSV\n",
    "    array['K']=list(K)\n",
    "    array['J']=list(J)\n",
    "    #array['D']=list(D)\n",
    "    array['K-D']=list(K/D)\n",
    "    #array['D-J']=list(D/J)\n",
    "    array['K-J']=list(K/J)\n",
    "    \n",
    "    DEA=EMA(pd.DataFrame(J),10)\n",
    "    array['KDJ_BAR1']=np.array(J/DEA)\n",
    "    \n",
    "    DEA=EMA(pd.DataFrame(J),5)\n",
    "    array['KDJ_BAR2']=np.array(J/DEA)\n",
    "    \n",
    "    return array"
   ]
  },
  {
   "cell_type": "code",
   "execution_count": 37,
   "id": "cb11117d",
   "metadata": {
    "ExecuteTime": {
     "end_time": "2022-09-25T17:32:37.269422Z",
     "start_time": "2022-09-25T17:32:36.967840Z"
    },
    "scrolled": true
   },
   "outputs": [
    {
     "name": "stderr",
     "output_type": "stream",
     "text": [
      "<ipython-input-36-99d768c95a43>:41: RuntimeWarning: invalid value encountered in true_divide\n",
      "  array['K-D']=list(K/D)\n",
      "<ipython-input-36-99d768c95a43>:43: RuntimeWarning: invalid value encountered in true_divide\n",
      "  array['K-J']=list(K/J)\n"
     ]
    },
    {
     "data": {
      "text/html": [
       "<div>\n",
       "<style scoped>\n",
       "    .dataframe tbody tr th:only-of-type {\n",
       "        vertical-align: middle;\n",
       "    }\n",
       "\n",
       "    .dataframe tbody tr th {\n",
       "        vertical-align: top;\n",
       "    }\n",
       "\n",
       "    .dataframe thead th {\n",
       "        text-align: right;\n",
       "    }\n",
       "</style>\n",
       "<table border=\"1\" class=\"dataframe\">\n",
       "  <thead>\n",
       "    <tr style=\"text-align: right;\">\n",
       "      <th></th>\n",
       "      <th>4</th>\n",
       "      <th>K</th>\n",
       "      <th>J</th>\n",
       "      <th>K-D</th>\n",
       "      <th>K-J</th>\n",
       "      <th>KDJ_BAR1</th>\n",
       "      <th>KDJ_BAR2</th>\n",
       "    </tr>\n",
       "  </thead>\n",
       "  <tbody>\n",
       "    <tr>\n",
       "      <th>4</th>\n",
       "      <td>1.000000</td>\n",
       "      <td>0.232898</td>\n",
       "      <td>-0.014823</td>\n",
       "      <td>0.005147</td>\n",
       "      <td>0.010496</td>\n",
       "      <td>0.006890</td>\n",
       "      <td>-0.039731</td>\n",
       "    </tr>\n",
       "    <tr>\n",
       "      <th>K</th>\n",
       "      <td>0.232898</td>\n",
       "      <td>1.000000</td>\n",
       "      <td>0.420826</td>\n",
       "      <td>0.569710</td>\n",
       "      <td>0.025627</td>\n",
       "      <td>0.020508</td>\n",
       "      <td>0.019801</td>\n",
       "    </tr>\n",
       "    <tr>\n",
       "      <th>J</th>\n",
       "      <td>-0.014823</td>\n",
       "      <td>0.420826</td>\n",
       "      <td>1.000000</td>\n",
       "      <td>0.642046</td>\n",
       "      <td>0.024927</td>\n",
       "      <td>-0.006933</td>\n",
       "      <td>-0.040273</td>\n",
       "    </tr>\n",
       "    <tr>\n",
       "      <th>K-D</th>\n",
       "      <td>0.005147</td>\n",
       "      <td>0.569710</td>\n",
       "      <td>0.642046</td>\n",
       "      <td>1.000000</td>\n",
       "      <td>0.026800</td>\n",
       "      <td>-0.021457</td>\n",
       "      <td>-0.022558</td>\n",
       "    </tr>\n",
       "    <tr>\n",
       "      <th>K-J</th>\n",
       "      <td>0.010496</td>\n",
       "      <td>0.025627</td>\n",
       "      <td>0.024927</td>\n",
       "      <td>0.026800</td>\n",
       "      <td>1.000000</td>\n",
       "      <td>0.000335</td>\n",
       "      <td>-0.003045</td>\n",
       "    </tr>\n",
       "    <tr>\n",
       "      <th>KDJ_BAR1</th>\n",
       "      <td>0.006890</td>\n",
       "      <td>0.020508</td>\n",
       "      <td>-0.006933</td>\n",
       "      <td>-0.021457</td>\n",
       "      <td>0.000335</td>\n",
       "      <td>1.000000</td>\n",
       "      <td>0.007560</td>\n",
       "    </tr>\n",
       "    <tr>\n",
       "      <th>KDJ_BAR2</th>\n",
       "      <td>-0.039731</td>\n",
       "      <td>0.019801</td>\n",
       "      <td>-0.040273</td>\n",
       "      <td>-0.022558</td>\n",
       "      <td>-0.003045</td>\n",
       "      <td>0.007560</td>\n",
       "      <td>1.000000</td>\n",
       "    </tr>\n",
       "  </tbody>\n",
       "</table>\n",
       "</div>"
      ],
      "text/plain": [
       "                 4         K         J       K-D       K-J  KDJ_BAR1  KDJ_BAR2\n",
       "4         1.000000  0.232898 -0.014823  0.005147  0.010496  0.006890 -0.039731\n",
       "K         0.232898  1.000000  0.420826  0.569710  0.025627  0.020508  0.019801\n",
       "J        -0.014823  0.420826  1.000000  0.642046  0.024927 -0.006933 -0.040273\n",
       "K-D       0.005147  0.569710  0.642046  1.000000  0.026800 -0.021457 -0.022558\n",
       "K-J       0.010496  0.025627  0.024927  0.026800  1.000000  0.000335 -0.003045\n",
       "KDJ_BAR1  0.006890  0.020508 -0.006933 -0.021457  0.000335  1.000000  0.007560\n",
       "KDJ_BAR2 -0.039731  0.019801 -0.040273 -0.022558 -0.003045  0.007560  1.000000"
      ]
     },
     "execution_count": 37,
     "metadata": {},
     "output_type": "execute_result"
    }
   ],
   "source": [
    "t = KDJ(pd.DataFrame(close_price.iloc[3,:]),10,1/3)\n",
    "t.corr()"
   ]
  },
  {
   "cell_type": "code",
   "execution_count": 38,
   "id": "cca37300",
   "metadata": {
    "ExecuteTime": {
     "end_time": "2022-09-25T17:39:46.640436Z",
     "start_time": "2022-09-25T17:33:06.916941Z"
    }
   },
   "outputs": [
    {
     "name": "stderr",
     "output_type": "stream",
     "text": [
      "<ipython-input-36-99d768c95a43>:41: RuntimeWarning: invalid value encountered in true_divide\n",
      "  array['K-D']=list(K/D)\n",
      "<ipython-input-36-99d768c95a43>:43: RuntimeWarning: invalid value encountered in true_divide\n",
      "  array['K-J']=list(K/J)\n",
      "  0%|          | 2/2169 [00:00<06:36,  5.47it/s]<ipython-input-36-99d768c95a43>:13: RuntimeWarning: invalid value encountered in double_scalars\n",
      "  rsv=(C-L)/(H-L)\n",
      "<ipython-input-36-99d768c95a43>:43: RuntimeWarning: divide by zero encountered in true_divide\n",
      "  array['K-J']=list(K/J)\n",
      "  0%|          | 6/2169 [00:01<06:35,  5.47it/s]<ipython-input-36-99d768c95a43>:19: RuntimeWarning: invalid value encountered in double_scalars\n",
      "  rsv=(C-L)/(H-L)\n",
      "100%|██████████| 2169/2169 [06:36<00:00,  5.47it/s]\n"
     ]
    }
   ],
   "source": [
    "t = KDJ(pd.DataFrame(close_price.iloc[3,:]),5,1/3)\n",
    "\n",
    "close_price_part = (close_price[dates_need].loc[index_need]).fillna(method='ffill',axis=1)\n",
    "df_mask = close_price_part.isna().replace([True,False],[np.nan,1])\n",
    "close_price_part = close_price_part.fillna(method='bfill',axis=1)\n",
    "KDJ_dict={}\n",
    "import tqdm\n",
    "for i in tqdm.tqdm(range(0,len(index_need))):\n",
    "    KDJ_df = KDJ(pd.DataFrame(close_price_part.iloc[i,:]),5,1/3)\n",
    "    KDJ_dict[index_need[i]] = KDJ_df  \n",
    "    \n",
    "name_list = ['K','J','K-D','K-J','KDJ_BAR1','KDJ_BAR2']\n",
    "KDJ_res_dict = to_factor_df(name_list,KDJ_dict)\n"
   ]
  },
  {
   "cell_type": "code",
   "execution_count": 39,
   "id": "b5653829",
   "metadata": {
    "ExecuteTime": {
     "end_time": "2022-09-25T17:40:30.948388Z",
     "start_time": "2022-09-25T17:40:30.792560Z"
    }
   },
   "outputs": [
    {
     "data": {
      "image/png": "[encoded data removed]",
      "text/plain": [
       "<Figure size 432x288 with 1 Axes>"
      ]
     },
     "metadata": {
      "needs_background": "light"
     },
     "output_type": "display_data"
    }
   ],
   "source": [
    "for i in name_list:\n",
    "    plt.plot(list(KDJ_res_dict[i].count()))"
   ]
  },
  {
   "cell_type": "markdown",
   "id": "a802fd74",
   "metadata": {
    "ExecuteTime": {
     "end_time": "2022-09-15T06:01:03.120366Z",
     "start_time": "2022-09-15T06:01:03.101420Z"
    }
   },
   "source": [
    "# 支撑阻力——布林带"
   ]
  },
  {
   "cell_type": "code",
   "execution_count": 40,
   "id": "86790299",
   "metadata": {
    "ExecuteTime": {
     "end_time": "2022-09-25T17:41:15.562515Z",
     "start_time": "2022-09-25T17:41:15.555611Z"
    }
   },
   "outputs": [],
   "source": [
    "def Boll(Df,t,k):\n",
    "    array=Df.copy()\n",
    "    price = np.array(array.iloc[:,0])\n",
    "    Up=[]\n",
    "    Mid=[]\n",
    "    Down=[]\n",
    "    for i in range(0,len(array)):\n",
    "        if i==0:\n",
    "            ma=array.iloc[i,0]\n",
    "            std=0\n",
    "        elif i+1>=t:\n",
    "            Slice=array.iloc[i+1-t:i+1,0]\n",
    "            ma=Slice.mean()\n",
    "            std=Slice.std()\n",
    "        elif i<=t:\n",
    "            Slice=array.iloc[:i+1,0]\n",
    "            ma=Slice.mean()\n",
    "            std=Slice.std()\n",
    "        Up.append(ma+k*std)\n",
    "        Mid.append(ma)\n",
    "        Down.append(ma-k*std)\n",
    "    Up = np.array(Up)\n",
    "    Down = np.array(Down)\n",
    "    Mid = np.array(Mid)\n",
    "    Df['Boll(U/P)']=list(Up/price)\n",
    "    #Df['Boll(M/P)']=list(Mid/price)\n",
    "    Df['Boll(D/P)']=list(Down/price)\n",
    "    Df['Boll(U/D)']=list(Up/Down)\n",
    "    Wid = Up-Down\n",
    "    Df['Boll(W20)']=list(Wid/EMA(pd.DataFrame(Wid),20))\n",
    "    #Df['Boll(W10)']=list(Wid/EMA(pd.DataFrame(Wid),6))\n",
    "    Df['Boll(W3)']=list(Wid/EMA(pd.DataFrame(Wid),3))\n",
    "    Df['Boll(MW)']=list(Mid/Wid)\n",
    "    return Df\n"
   ]
  },
  {
   "cell_type": "code",
   "execution_count": 41,
   "id": "b110d178",
   "metadata": {
    "ExecuteTime": {
     "end_time": "2022-09-25T17:41:59.999176Z",
     "start_time": "2022-09-25T17:41:59.630688Z"
    }
   },
   "outputs": [
    {
     "name": "stderr",
     "output_type": "stream",
     "text": [
      "<ipython-input-40-cfe337cc15ae>:33: RuntimeWarning: divide by zero encountered in true_divide\n",
      "  Df['Boll(MW)']=list(Mid/Wid)\n"
     ]
    },
    {
     "data": {
      "text/html": [
       "<div>\n",
       "<style scoped>\n",
       "    .dataframe tbody tr th:only-of-type {\n",
       "        vertical-align: middle;\n",
       "    }\n",
       "\n",
       "    .dataframe tbody tr th {\n",
       "        vertical-align: top;\n",
       "    }\n",
       "\n",
       "    .dataframe thead th {\n",
       "        text-align: right;\n",
       "    }\n",
       "</style>\n",
       "<table border=\"1\" class=\"dataframe\">\n",
       "  <thead>\n",
       "    <tr style=\"text-align: right;\">\n",
       "      <th></th>\n",
       "      <th>4</th>\n",
       "      <th>Boll(U/P)</th>\n",
       "      <th>Boll(D/P)</th>\n",
       "      <th>Boll(U/D)</th>\n",
       "      <th>Boll(W20)</th>\n",
       "      <th>Boll(W3)</th>\n",
       "      <th>Boll(MW)</th>\n",
       "    </tr>\n",
       "  </thead>\n",
       "  <tbody>\n",
       "    <tr>\n",
       "      <th>4</th>\n",
       "      <td>1.000000</td>\n",
       "      <td>-0.065723</td>\n",
       "      <td>-0.266339</td>\n",
       "      <td>0.234225</td>\n",
       "      <td>0.066399</td>\n",
       "      <td>-0.011080</td>\n",
       "      <td>-0.050053</td>\n",
       "    </tr>\n",
       "    <tr>\n",
       "      <th>Boll(U/P)</th>\n",
       "      <td>-0.065723</td>\n",
       "      <td>1.000000</td>\n",
       "      <td>0.644345</td>\n",
       "      <td>0.415213</td>\n",
       "      <td>0.072508</td>\n",
       "      <td>0.010249</td>\n",
       "      <td>-0.059420</td>\n",
       "    </tr>\n",
       "    <tr>\n",
       "      <th>Boll(D/P)</th>\n",
       "      <td>-0.266339</td>\n",
       "      <td>0.644345</td>\n",
       "      <td>1.000000</td>\n",
       "      <td>-0.418131</td>\n",
       "      <td>-0.293051</td>\n",
       "      <td>-0.154663</td>\n",
       "      <td>0.055381</td>\n",
       "    </tr>\n",
       "    <tr>\n",
       "      <th>Boll(U/D)</th>\n",
       "      <td>0.234225</td>\n",
       "      <td>0.415213</td>\n",
       "      <td>-0.418131</td>\n",
       "      <td>1.000000</td>\n",
       "      <td>0.432313</td>\n",
       "      <td>0.182552</td>\n",
       "      <td>-0.130720</td>\n",
       "    </tr>\n",
       "    <tr>\n",
       "      <th>Boll(W20)</th>\n",
       "      <td>0.066399</td>\n",
       "      <td>0.072508</td>\n",
       "      <td>-0.293051</td>\n",
       "      <td>0.432313</td>\n",
       "      <td>1.000000</td>\n",
       "      <td>0.670208</td>\n",
       "      <td>-0.448281</td>\n",
       "    </tr>\n",
       "    <tr>\n",
       "      <th>Boll(W3)</th>\n",
       "      <td>-0.011080</td>\n",
       "      <td>0.010249</td>\n",
       "      <td>-0.154663</td>\n",
       "      <td>0.182552</td>\n",
       "      <td>0.670208</td>\n",
       "      <td>1.000000</td>\n",
       "      <td>-0.282439</td>\n",
       "    </tr>\n",
       "    <tr>\n",
       "      <th>Boll(MW)</th>\n",
       "      <td>-0.050053</td>\n",
       "      <td>-0.059420</td>\n",
       "      <td>0.055381</td>\n",
       "      <td>-0.130720</td>\n",
       "      <td>-0.448281</td>\n",
       "      <td>-0.282439</td>\n",
       "      <td>1.000000</td>\n",
       "    </tr>\n",
       "  </tbody>\n",
       "</table>\n",
       "</div>"
      ],
      "text/plain": [
       "                  4  Boll(U/P)  Boll(D/P)  Boll(U/D)  Boll(W20)  Boll(W3)  \\\n",
       "4          1.000000  -0.065723  -0.266339   0.234225   0.066399 -0.011080   \n",
       "Boll(U/P) -0.065723   1.000000   0.644345   0.415213   0.072508  0.010249   \n",
       "Boll(D/P) -0.266339   0.644345   1.000000  -0.418131  -0.293051 -0.154663   \n",
       "Boll(U/D)  0.234225   0.415213  -0.418131   1.000000   0.432313  0.182552   \n",
       "Boll(W20)  0.066399   0.072508  -0.293051   0.432313   1.000000  0.670208   \n",
       "Boll(W3)  -0.011080   0.010249  -0.154663   0.182552   0.670208  1.000000   \n",
       "Boll(MW)  -0.050053  -0.059420   0.055381  -0.130720  -0.448281 -0.282439   \n",
       "\n",
       "           Boll(MW)  \n",
       "4         -0.050053  \n",
       "Boll(U/P) -0.059420  \n",
       "Boll(D/P)  0.055381  \n",
       "Boll(U/D) -0.130720  \n",
       "Boll(W20) -0.448281  \n",
       "Boll(W3)  -0.282439  \n",
       "Boll(MW)   1.000000  "
      ]
     },
     "execution_count": 41,
     "metadata": {},
     "output_type": "execute_result"
    }
   ],
   "source": [
    "t = Boll(pd.DataFrame(close_price.iloc[3,:]),10,1)\n",
    "t.corr()"
   ]
  },
  {
   "cell_type": "code",
   "execution_count": 42,
   "id": "854b89b7",
   "metadata": {
    "ExecuteTime": {
     "end_time": "2022-09-25T17:50:55.532471Z",
     "start_time": "2022-09-25T17:42:43.915889Z"
    }
   },
   "outputs": [
    {
     "name": "stderr",
     "output_type": "stream",
     "text": [
      "  0%|          | 0/2169 [00:00<?, ?it/s]<ipython-input-40-cfe337cc15ae>:33: RuntimeWarning: divide by zero encountered in true_divide\n",
      "  Df['Boll(MW)']=list(Mid/Wid)\n",
      "100%|██████████| 2169/2169 [08:10<00:00,  4.42it/s]\n"
     ]
    }
   ],
   "source": [
    "close_price_part = (close_price[dates_need].loc[index_need]).fillna(method='ffill',axis=1)\n",
    "df_mask = close_price_part.isna().replace([True,False],[np.nan,1])\n",
    "close_price_part = close_price_part.fillna(method='bfill',axis=1)\n",
    "Boll_dict={}\n",
    "import tqdm\n",
    "for i in tqdm.tqdm(range(0,len(index_need))):\n",
    "    Boll_df = Boll(pd.DataFrame(close_price_part.iloc[i,:]),10,1)\n",
    "    Boll_dict[index_need[i]] = Boll_df  \n",
    "    \n",
    "\n"
   ]
  },
  {
   "cell_type": "code",
   "execution_count": 43,
   "id": "569e0fa3",
   "metadata": {
    "ExecuteTime": {
     "end_time": "2022-09-25T17:51:56.926913Z",
     "start_time": "2022-09-25T17:51:54.825898Z"
    }
   },
   "outputs": [
    {
     "data": {
      "image/png": "[encoded data removed]",
      "text/plain": [
       "<Figure size 432x288 with 1 Axes>"
      ]
     },
     "metadata": {
      "needs_background": "light"
     },
     "output_type": "display_data"
    }
   ],
   "source": [
    "name_list = ['Boll(U/P)', 'Boll(D/P)', 'Boll(U/D)', 'Boll(W20)',\n",
    "       'Boll(W3)','Boll(MW)']\n",
    "Boll_res_dict = to_factor_df(name_list,Boll_dict)\n",
    "for i in name_list:\n",
    "    plt.plot(list(Boll_res_dict[i].count()))"
   ]
  },
  {
   "cell_type": "markdown",
   "id": "d8070b76",
   "metadata": {},
   "source": [
    "# 波动率"
   ]
  },
  {
   "cell_type": "code",
   "execution_count": 44,
   "id": "ec940a64",
   "metadata": {
    "ExecuteTime": {
     "end_time": "2022-09-25T17:53:01.149698Z",
     "start_time": "2022-09-25T17:52:55.323728Z"
    }
   },
   "outputs": [
    {
     "name": "stderr",
     "output_type": "stream",
     "text": [
      "/Users/jason/opt/anaconda3/lib/python3.8/site-packages/pandas/core/window/rolling.py:455: RuntimeWarning: All-NaN slice encountered\n",
      "  return func(x, start, end, min_periods)\n"
     ]
    }
   ],
   "source": [
    "factor_cha_std1 = twap_ret.rolling(window=5,axis=1).std()\n",
    "factor_cha_std2 = twap_ret.rolling(window=20,axis=1).std()\n",
    "factor_cha_skew1 = twap_ret.rolling(window=5,axis=1).skew()\n",
    "factor_cha_skew2 = twap_ret.rolling(window=20,axis=1).skew()\n",
    "factor_cha_kurt1 = twap_ret.rolling(window=5,axis=1).kurt()\n",
    "factor_cha_kurt2 = twap_ret.rolling(window=20,axis=1).kurt()\n"
   ]
  },
  {
   "cell_type": "code",
   "execution_count": 45,
   "id": "09c4a672",
   "metadata": {
    "ExecuteTime": {
     "end_time": "2022-09-25T17:54:00.986577Z",
     "start_time": "2022-09-25T17:54:00.530257Z"
    }
   },
   "outputs": [],
   "source": [
    "vol_name = ['factor_cha_std1','factor_cha_std2','factor_cha_skew1','factor_cha_skew2','factor_cha_kurt1','factor_cha_kurt2']\n",
    "Vol_res_dict = {i:eval(i)[dates_need].loc[index_need] for i in vol_name}\n"
   ]
  },
  {
   "cell_type": "code",
   "execution_count": 46,
   "id": "bf3db1ed",
   "metadata": {
    "ExecuteTime": {
     "end_time": "2022-09-25T17:55:00.290943Z",
     "start_time": "2022-09-25T17:55:00.126348Z"
    }
   },
   "outputs": [
    {
     "data": {
      "image/png": "[encoded data removed]",
      "text/plain": [
       "<Figure size 432x288 with 1 Axes>"
      ]
     },
     "metadata": {
      "needs_background": "light"
     },
     "output_type": "display_data"
    }
   ],
   "source": [
    "for i in vol_name:\n",
    "    plt.plot(list(Vol_res_dict[i].count()))"
   ]
  },
  {
   "cell_type": "markdown",
   "id": "cfaf60e3",
   "metadata": {},
   "source": [
    "# 收益率特征工程"
   ]
  },
  {
   "cell_type": "code",
   "execution_count": 47,
   "id": "2c8a5feb",
   "metadata": {
    "ExecuteTime": {
     "end_time": "2022-09-25T17:56:00.286204Z",
     "start_time": "2022-09-25T17:55:59.900849Z"
    }
   },
   "outputs": [],
   "source": [
    "factor_cha_diff1 = twap_ret.shift(1,axis=1).diff(1,axis=1)\n",
    "factor_cha_diff2 = twap_ret.shift(1,axis=1).diff(5,axis=1)\n",
    "factor_cha_diff3 = twap_ret.shift(1,axis=1).diff(20,axis=1)\n",
    "factor_cha_lag1 = twap_ret.shift(1,axis=1)\n",
    "factor_cha_lag2 = twap_ret.shift(5,axis=1)\n",
    "factor_cha_lag3 = twap_ret.shift(20,axis=1)"
   ]
  },
  {
   "cell_type": "code",
   "execution_count": 48,
   "id": "0a5a0690",
   "metadata": {
    "ExecuteTime": {
     "end_time": "2022-09-25T17:57:01.030789Z",
     "start_time": "2022-09-25T17:56:59.657464Z"
    }
   },
   "outputs": [],
   "source": [
    "ret_name = ['factor_cha_diff1','factor_cha_diff2','factor_cha_diff3','factor_cha_lag1','factor_cha_lag2','factor_cha_lag3']\n",
    "ret_res_dict = {i:eval(i)[dates_need].loc[index_need] for i in ret_name}\n"
   ]
  },
  {
   "cell_type": "code",
   "execution_count": 49,
   "id": "9b3dfd7d",
   "metadata": {
    "ExecuteTime": {
     "end_time": "2022-09-25T17:58:00.862141Z",
     "start_time": "2022-09-25T17:58:00.697350Z"
    }
   },
   "outputs": [
    {
     "data": {
      "image/png": "[encoded data removed]",
      "text/plain": [
       "<Figure size 432x288 with 1 Axes>"
      ]
     },
     "metadata": {
      "needs_background": "light"
     },
     "output_type": "display_data"
    }
   ],
   "source": [
    "for i in ret_name:\n",
    "    plt.plot(list(ret_res_dict[i].count()))"
   ]
  },
  {
   "cell_type": "markdown",
   "id": "5bd33821",
   "metadata": {},
   "source": [
    "# 交易量因子"
   ]
  },
  {
   "cell_type": "code",
   "execution_count": 51,
   "id": "b1ac0003",
   "metadata": {
    "ExecuteTime": {
     "end_time": "2022-09-26T00:38:28.529437Z",
     "start_time": "2022-09-26T00:38:24.077912Z"
    }
   },
   "outputs": [],
   "source": [
    "factor_tv = trade_vol_b120\n",
    "factor_tv_vc = vwap_b60/close_price\n",
    "factor_tv_ma1 = trade_vol_b120/(trade_vol_b120.rolling(window=20,axis=1).mean())\n",
    "factor_tv_ma2 = trade_vol_c60/(trade_vol_c60.rolling(window=20,axis=1).mean())\n",
    "factor_tv_ma3 = trade_vol_b120/(trade_vol_b120.rolling(window=3,axis=1).mean())\n",
    "cm = close_price/close_price.rolling(window=5,axis=1).mean()\n",
    "factor_tv_pt = cm / factor_tv_ma2"
   ]
  },
  {
   "cell_type": "code",
   "execution_count": 52,
   "id": "c924c5ad",
   "metadata": {
    "ExecuteTime": {
     "end_time": "2022-09-26T00:39:26.045702Z",
     "start_time": "2022-09-26T00:39:25.761339Z"
    }
   },
   "outputs": [],
   "source": [
    "tv_name = ['factor_tv','factor_tv_vc','factor_tv_ma1','factor_tv_ma2','factor_tv_ma3','factor_tv_pt']\n",
    "tv_res_dict = {i:eval(i)[dates_need].loc[index_need] for i in tv_name}"
   ]
  },
  {
   "cell_type": "code",
   "execution_count": 53,
   "id": "4c0bf726",
   "metadata": {
    "ExecuteTime": {
     "end_time": "2022-09-26T00:39:28.974564Z",
     "start_time": "2022-09-26T00:39:28.758657Z"
    }
   },
   "outputs": [
    {
     "data": {
      "image/png": "[encoded data removed]",
      "text/plain": [
       "<Figure size 432x288 with 1 Axes>"
      ]
     },
     "metadata": {
      "needs_background": "light"
     },
     "output_type": "display_data"
    }
   ],
   "source": [
    "for i in tv_name:\n",
    "    plt.plot(list(tv_res_dict[i].count()))"
   ]
  },
  {
   "cell_type": "code",
   "execution_count": 57,
   "id": "16a81315",
   "metadata": {
    "ExecuteTime": {
     "end_time": "2022-09-26T00:40:37.291053Z",
     "start_time": "2022-09-26T00:40:37.287921Z"
    }
   },
   "outputs": [],
   "source": [
    "dict_all = [MACD_res_dict,RSI_res_dict,KDJ_res_dict,Boll_res_dict,Vol_res_dict,ret_res_dict,tv_res_dict]"
   ]
  },
  {
   "cell_type": "code",
   "execution_count": 58,
   "id": "058aa2d0",
   "metadata": {
    "ExecuteTime": {
     "end_time": "2022-09-26T00:40:38.664227Z",
     "start_time": "2022-09-26T00:40:38.653435Z"
    }
   },
   "outputs": [],
   "source": [
    "Factor_total_dict = {}\n",
    "category = ['MACD','RSI','KDJ','Boll','VOL','CHA','TRD']\n",
    "for i in range(0,len(dict_all)):\n",
    "    for j in range(0,len(dict_all[i].keys())):\n",
    "        name = category[i]+'_'+str(int(j))\n",
    "        df = dict_all[i][list(dict_all[i].keys())[j]]\n",
    "        Factor_total_dict[name] = df"
   ]
  },
  {
   "cell_type": "code",
   "execution_count": null,
   "id": "6aa2980e",
   "metadata": {
    "ExecuteTime": {
     "end_time": "2022-09-15T08:41:27.303271Z",
     "start_time": "2022-09-15T08:41:27.297312Z"
    }
   },
   "outputs": [],
   "source": []
  },
  {
   "cell_type": "markdown",
   "id": "418a66de",
   "metadata": {
    "ExecuteTime": {
     "end_time": "2022-09-15T08:46:51.656954Z",
     "start_time": "2022-09-15T08:46:50.724573Z"
    }
   },
   "source": [
    "# 因子相关性分析"
   ]
  },
  {
   "cell_type": "code",
   "execution_count": 59,
   "id": "71928433",
   "metadata": {
    "ExecuteTime": {
     "end_time": "2022-09-26T00:42:07.222081Z",
     "start_time": "2022-09-26T00:40:41.681311Z"
    }
   },
   "outputs": [
    {
     "name": "stderr",
     "output_type": "stream",
     "text": [
      "100%|██████████| 42/42 [01:25<00:00,  2.04s/it]\n"
     ]
    }
   ],
   "source": [
    "corr_mat = np.zeros([len(Factor_total_dict),len(Factor_total_dict)])\n",
    "names = list(Factor_total_dict.keys())\n",
    "import tqdm\n",
    "for i in tqdm.tqdm(range(0,len(Factor_total_dict))):\n",
    "    for j in range(i,len(Factor_total_dict)):\n",
    "        corr = Factor_total_dict[names[i]].corrwith(Factor_total_dict[names[j]]).mean()\n",
    "        corr_mat[i][j] = corr\n",
    "        corr_mat[j][i] = corr"
   ]
  },
  {
   "cell_type": "code",
   "execution_count": 60,
   "id": "21c82bb9",
   "metadata": {
    "ExecuteTime": {
     "end_time": "2022-09-26T00:44:46.026143Z",
     "start_time": "2022-09-26T00:44:46.016193Z"
    }
   },
   "outputs": [],
   "source": [
    "corr_mat = pd.DataFrame(corr_mat,index = Factor_total_dict.keys(),columns = Factor_total_dict.keys())"
   ]
  },
  {
   "cell_type": "code",
   "execution_count": 79,
   "id": "5227dd0f",
   "metadata": {
    "ExecuteTime": {
     "end_time": "2022-09-30T09:54:39.602093Z",
     "start_time": "2022-09-30T09:54:39.523522Z"
    }
   },
   "outputs": [],
   "source": [
    "corr_mat.columns\n",
    "names_list = ['MACD_1', 'MACD_2', 'MACD_3', 'MACD_4', 'MACD_5', 'MACD_6', \n",
    "       'RSI_1', 'RSI_2', 'RSI_3', 'RSI_4', 'RSI_5', 'RSI_6', 'KDJ_1', 'KDJ_2',\n",
    "       'KDJ_3', 'KDJ_4', 'KDJ_5','KDJ_6', 'Boll_1', 'Boll_2', 'Boll_3',\n",
    "       'Boll_4', 'Boll_5', 'Boll_6',  'Mom_1', 'Mom_2', 'Mom_3', 'Mom_4',\n",
    "       'Mom_5', 'Mom_6','Ret_1', 'Ret_2', 'Ret_3', 'Ret_4', 'Ret_5','Ret_6', \n",
    "       'Trd_1', 'Trd_2', 'Trd_3', 'Trd_4', 'Trd_5' ,'Trd_6']\n",
    "corr_mat.index = names_list\n",
    "corr_mat.columns = names_list"
   ]
  },
  {
   "cell_type": "code",
   "execution_count": 107,
   "id": "c83a5b1e",
   "metadata": {
    "ExecuteTime": {
     "end_time": "2022-09-30T19:07:18.045882Z",
     "start_time": "2022-09-30T19:07:16.165688Z"
    }
   },
   "outputs": [
    {
     "data": {
      "image/png": "[encoded data removed]",
      "text/plain": [
       "<Figure size 1080x864 with 2 Axes>"
      ]
     },
     "metadata": {
      "needs_background": "light"
     },
     "output_type": "display_data"
    }
   ],
   "source": [
    "import seaborn as sns\n",
    "plt.figure(figsize=(15,12))\n",
    "plt.rcParams['font.family'] = 'Times New Roman' #设置字体\n",
    "sns.heatmap(corr_mat,cmap='Blues')\n",
    "plt.title('Correlation between factors',fontproperties='Times New Roman',fontsize=30,pad=20,fontweight=600)\n",
    "plt.savefig('/Users/jason/JC/公告数据/Figures/Corr_df.jpg',dpi=300)"
   ]
  },
  {
   "cell_type": "code",
   "execution_count": 64,
   "id": "90de828e",
   "metadata": {
    "ExecuteTime": {
     "end_time": "2022-09-26T00:45:07.118050Z",
     "start_time": "2022-09-26T00:45:06.691535Z"
    }
   },
   "outputs": [],
   "source": [
    "Y = twap_ret.loc[index_need][dates_need]\n",
    "def pre_process(a):\n",
    "    a = a.replace([np.inf,-np.inf],[np.nan,np.nan])\n",
    "    a = (a - a.min())/(a.max() - a.min())-0.5\n",
    "    if a.corrwith(Y).mean() <= 0:\n",
    "        a = -a\n",
    "    return a"
   ]
  },
  {
   "cell_type": "code",
   "execution_count": 65,
   "id": "8865aefd",
   "metadata": {
    "ExecuteTime": {
     "end_time": "2022-09-26T00:45:16.567608Z",
     "start_time": "2022-09-26T00:45:09.059828Z"
    }
   },
   "outputs": [],
   "source": [
    "Factor_total_dict = {i:pre_process(Factor_total_dict[i]) for i in Factor_total_dict.keys()}"
   ]
  },
  {
   "cell_type": "code",
   "execution_count": null,
   "id": "baadb7c2",
   "metadata": {},
   "outputs": [],
   "source": []
  },
  {
   "cell_type": "code",
   "execution_count": null,
   "id": "7199c19e",
   "metadata": {},
   "outputs": [],
   "source": []
  },
  {
   "cell_type": "code",
   "execution_count": 89,
   "id": "103e6b96",
   "metadata": {
    "ExecuteTime": {
     "end_time": "2022-09-30T09:59:17.181448Z",
     "start_time": "2022-09-30T09:59:12.280585Z"
    }
   },
   "outputs": [],
   "source": [
    "Y = twap_ret.loc[index_need][dates_need]\n",
    "Factor_IC_dict = {i:Factor_total_dict[i].corrwith(Y) for i in Factor_total_dict.keys()}\n",
    "\n",
    "Factor_IC_df = pd.DataFrame(Factor_IC_dict).reset_index().drop(columns = 'index')\n",
    "name = Factor_IC_df.mean().sort_values().index\n",
    "character = []\n",
    "for i in Factor_IC_df.mean().sort_values().index:\n",
    "    character.append(i[:3])\n",
    "    \n",
    "Colors = ['brown', 'orange', 'gold','lime','aqua','royalblue','violet']\n",
    "col_map = pd.DataFrame(Colors,pd.Series(character).unique(),columns = ['Col'])\n",
    "color_list = pd.DataFrame(character,columns = ['Cha']).merge(col_map,left_on = 'Cha',right_index = True,how = 'left')['Col']\n"
   ]
  },
  {
   "cell_type": "code",
   "execution_count": 109,
   "id": "d71c5aaf",
   "metadata": {
    "ExecuteTime": {
     "end_time": "2022-10-01T08:53:26.912477Z",
     "start_time": "2022-10-01T08:53:24.585433Z"
    }
   },
   "outputs": [
    {
     "data": {
      "image/png": "[encoded data removed]",
      "text/plain": [
       "<Figure size 2520x720 with 1 Axes>"
      ]
     },
     "metadata": {
      "needs_background": "light"
     },
     "output_type": "display_data"
    }
   ],
   "source": [
    "plt.figure(figsize=(35,10))\n",
    "Alt = Factor_IC_df.dropna()[name]\n",
    "c=['black','black','plum','plum','violet']\n",
    "f= plt.boxplot(Alt,patch_artist=True,\n",
    "               whiskerprops=dict(color=c[0]),medianprops=dict(color=c[1]),\n",
    "              flierprops=dict(color=c[2], markeredgecolor=c[3]),capprops=dict(color=c[4]))\n",
    "for box, c in zip(f['boxes'], color_list):\n",
    "    box.set(color=c)\n",
    "plt.xticks(np.arange(1,len(Alt.columns)+1),Alt.columns,fontsize=20,rotation=60)\n",
    "plt.yticks(fontsize=25)\n",
    "    #box.set(facecolor=c)\n",
    "plt.ylabel('Daily IC',fontsize=30)\n",
    "plt.xlabel('Factors',fontsize=30)\n",
    "plt.title('Daily IC distribution of factors',fontproperties='Times New Roman',fontsize=40,pad=20,fontweight=600)\n",
    "plt.savefig('/Users/jason/JC/公告数据/Figures/Fac_IC.jpg',dpi=300)\n",
    "plt.show()\n"
   ]
  },
  {
   "cell_type": "code",
   "execution_count": null,
   "id": "62d5bba9",
   "metadata": {},
   "outputs": [],
   "source": []
  },
  {
   "cell_type": "markdown",
   "id": "c40fc9c0",
   "metadata": {},
   "source": [
    "# 保存：Factors"
   ]
  },
  {
   "cell_type": "code",
   "execution_count": 75,
   "id": "2dabceae",
   "metadata": {
    "ExecuteTime": {
     "end_time": "2022-09-26T00:51:25.020365Z",
     "start_time": "2022-09-26T00:51:18.932583Z"
    }
   },
   "outputs": [
    {
     "data": {
      "text/plain": [
       "'/Users/jason/JC/公告数据/Factors'"
      ]
     },
     "execution_count": 75,
     "metadata": {},
     "output_type": "execute_result"
    }
   ],
   "source": [
    "save_variable(Factor_total_dict,pickle_path+'Factors')"
   ]
  },
  {
   "cell_type": "code",
   "execution_count": 15,
   "id": "f580c66c",
   "metadata": {
    "ExecuteTime": {
     "end_time": "2022-09-15T13:56:44.732664Z",
     "start_time": "2022-09-15T13:56:44.726662Z"
    }
   },
   "outputs": [
    {
     "data": {
      "text/plain": [
       "dict_keys(['factor_cha_diff1', 'factor_cha_diff2', 'factor_cha_diff3', 'factor_cha_lag1', 'factor_cha_lag2', 'factor_cha_lag3'])"
      ]
     },
     "execution_count": 15,
     "metadata": {},
     "output_type": "execute_result"
    }
   ],
   "source": [
    "ret_res_dict.keys()"
   ]
  },
  {
   "cell_type": "code",
   "execution_count": 11,
   "id": "9b063453",
   "metadata": {
    "ExecuteTime": {
     "end_time": "2022-09-15T13:56:16.102532Z",
     "start_time": "2022-09-15T13:56:15.786728Z"
    }
   },
   "outputs": [],
   "source": [
    "Factor_data_dict = load_variable('/Users/jason/JC/公告数据/Factors')"
   ]
  },
  {
   "cell_type": "code",
   "execution_count": null,
   "id": "8b05209b",
   "metadata": {
    "ExecuteTime": {
     "end_time": "2022-09-15T13:56:57.541708Z",
     "start_time": "2022-09-15T13:56:57.536180Z"
    }
   },
   "outputs": [],
   "source": []
  },
  {
   "cell_type": "code",
   "execution_count": null,
   "id": "65e02e74",
   "metadata": {},
   "outputs": [],
   "source": []
  }
 ],
 "metadata": {
  "kernelspec": {
   "display_name": "Python 3",
   "language": "python",
   "name": "python3"
  },
  "language_info": {
   "codemirror_mode": {
    "name": "ipython",
    "version": 3
   },
   "file_extension": ".py",
   "mimetype": "text/x-python",
   "name": "python",
   "nbconvert_exporter": "python",
   "pygments_lexer": "ipython3",
   "version": "3.8.8"
  },
  "latex_envs": {
   "LaTeX_envs_menu_present": true,
   "autoclose": false,
   "autocomplete": true,
   "bibliofile": "biblio.bib",
   "cite_by": "apalike",
   "current_citInitial": 1,
   "eqLabelWithNumbers": true,
   "eqNumInitial": 1,
   "hotkeys": {
    "equation": "Ctrl-E",
    "itemize": "Ctrl-I"
   },
   "labels_anchors": false,
   "latex_user_defs": false,
   "report_style_numbering": false,
   "user_envs_cfg": false
  },
  "toc": {
   "base_numbering": 1,
   "nav_menu": {},
   "number_sections": true,
   "sideBar": true,
   "skip_h1_title": false,
   "title_cell": "Table of Contents",
   "title_sidebar": "Contents",
   "toc_cell": false,
   "toc_position": {},
   "toc_section_display": true,
   "toc_window_display": false
  },
  "varInspector": {
   "cols": {
    "lenName": 16,
    "lenType": 16,
    "lenVar": 40
   },
   "kernels_config": {
    "python": {
     "delete_cmd_postfix": "",
     "delete_cmd_prefix": "del ",
     "library": "var_list.py",
     "varRefreshCmd": "print(var_dic_list())"
    },
    "r": {
     "delete_cmd_postfix": ") ",
     "delete_cmd_prefix": "rm(",
     "library": "var_list.r",
     "varRefreshCmd": "cat(var_dic_list()) "
    }
   },
   "types_to_exclude": [
    "module",
    "function",
    "builtin_function_or_method",
    "instance",
    "_Feature"
   ],
   "window_display": false
  }
 },
 "nbformat": 4,
 "nbformat_minor": 5
}
